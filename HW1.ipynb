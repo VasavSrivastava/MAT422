{
  "nbformat": 4,
  "nbformat_minor": 0,
  "metadata": {
    "colab": {
      "provenance": [],
      "authorship_tag": "ABX9TyMzO55Eff151eVao6U7I/tn",
      "include_colab_link": true
    },
    "kernelspec": {
      "name": "python3",
      "display_name": "Python 3"
    },
    "language_info": {
      "name": "python"
    }
  },
  "cells": [
    {
      "cell_type": "markdown",
      "metadata": {
        "id": "view-in-github",
        "colab_type": "text"
      },
      "source": [
        "<a href=\"https://colab.research.google.com/github/VasavSrivastava/MAT422/blob/main/HW1.ipynb\" target=\"_parent\"><img src=\"https://colab.research.google.com/assets/colab-badge.svg\" alt=\"Open In Colab\"/></a>"
      ]
    },
    {
      "cell_type": "code",
      "execution_count": null,
      "metadata": {
        "id": "hgRdaJY7fw9g"
      },
      "outputs": [],
      "source": []
    },
    {
      "cell_type": "markdown",
      "source": [
        "#**1.2.1 Linear Spaces**\n",
        "\n",
        "#####**1.2.1.1 Linear Combinations**\n",
        "#####A linear combination of vectors is the sum of scalars times the vectors. Below is a visual representation of a Linear Combination"
      ],
      "metadata": {
        "id": "uUMzri8Yh64X"
      }
    },
    {
      "cell_type": "code",
      "source": [
        "# Import necessary library\n",
        "import numpy as np\n",
        "\n",
        "# Define the vectors\n",
        "v1 = np.array([2, 3])\n",
        "v2 = np.array([1, 4])\n",
        "\n",
        "# Define the coefficients for the linear combination\n",
        "alpha = 3\n",
        "beta = -1\n",
        "\n",
        "# Compute the linear combination\n",
        "linear_combination = alpha * v1 + beta * v2\n",
        "\n",
        "# Print out the vectors and their linear combination\n",
        "print(\"Vector v1:\", v1)\n",
        "print(\"Vector v2:\", v2)\n",
        "print(\"Coefficients: alpha =\", alpha, \", beta =\", beta)\n",
        "print(\"Linear Combination ({} * v1 + {} * v2):\".format(alpha, beta), linear_combination)\n"
      ],
      "metadata": {
        "colab": {
          "base_uri": "https://localhost:8080/"
        },
        "id": "MaI-nA8ijg43",
        "outputId": "b006cde4-74c9-49f0-d74a-6908136f1b46"
      },
      "execution_count": 1,
      "outputs": [
        {
          "output_type": "stream",
          "name": "stdout",
          "text": [
            "Vector v1: [2 3]\n",
            "Vector v2: [1 4]\n",
            "Coefficients: alpha = 3 , beta = -1\n",
            "Linear Combination (3 * v1 + -1 * v2): [5 5]\n"
          ]
        }
      ]
    },
    {
      "cell_type": "markdown",
      "source": [
        "#####**1.2.1.2 Linear independece and dimension**\n",
        "A Linear subspace is a subset of all linear combinations. A list of vectors are linearly independent if they cannot be written as a linear combination of others. In other words, Their sum of linear combination has to be zero."
      ],
      "metadata": {
        "id": "QxO0mTY_lWrs"
      }
    },
    {
      "cell_type": "code",
      "source": [
        "import numpy as np\n",
        "\n",
        "# Define the vectors\n",
        "v1 = np.array([1, 2])\n",
        "v2 = np.array([3, 4])\n",
        "v3 = np.array([5, 6])\n",
        "\n",
        "# Stack the vectors as columns of a matrix\n",
        "matrix = np.column_stack([v1, v2, v3])\n",
        "\n",
        "# Compute the rank of the matrix\n",
        "rank = np.linalg.matrix_rank(matrix)\n",
        "\n",
        "# Determine the number of vectors\n",
        "num_vectors = matrix.shape[1]\n",
        "\n",
        "# Check if the vectors are linearly independent\n",
        "if rank == num_vectors:\n",
        "    print(\"The vectors are linearly independent.\")\n",
        "else:\n",
        "    print(\"The vectors are linearly dependent.\")\n",
        "\n",
        "# Output the matrix and its rank for reference\n",
        "print(\"Matrix formed by stacking the vectors as columns:\")\n",
        "print(matrix)\n",
        "print(\"Rank of the matrix:\", rank)"
      ],
      "metadata": {
        "colab": {
          "base_uri": "https://localhost:8080/"
        },
        "id": "rIffRnMqphud",
        "outputId": "3acff6f3-12c4-4942-bac5-ba39074a8b5b"
      },
      "execution_count": 2,
      "outputs": [
        {
          "output_type": "stream",
          "name": "stdout",
          "text": [
            "The vectors are linearly dependent.\n",
            "Matrix formed by stacking the vectors as columns:\n",
            "[[1 3 5]\n",
            " [2 4 6]]\n",
            "Rank of the matrix: 2\n"
          ]
        }
      ]
    },
    {
      "cell_type": "markdown",
      "source": [
        "#**1.2.2 Orthogonality**\n",
        "\n",
        "#####**1.2.2.1 Orthonormal Bases**\n",
        "\n",
        "#####A list of vectors are orthogonal if their dot product is equal to zero. $<u_i, u_j> = 0$ where $i \\neq j$.\n",
        "\n"
      ],
      "metadata": {
        "id": "9dpMRPrAp2g_"
      }
    },
    {
      "cell_type": "code",
      "source": [
        "import numpy as np\n",
        "\n",
        "# Define three vectors in R^3\n",
        "v1 = np.array([1, 0, 0])\n",
        "v2 = np.array([0, 1, 0])\n",
        "v3 = np.array([0, 0, 1])\n",
        "\n",
        "# Form a matrix with the vectors as columns\n",
        "V = np.column_stack((v1, v2, v3))\n",
        "\n",
        "# Check if the vectors are orthogonal by computing the dot products\n",
        "dot_product_matrix = np.dot(V.T, V)\n",
        "\n",
        "print(\"Dot product matrix:\")\n",
        "print(dot_product_matrix)\n",
        "\n",
        "# Check if the matrix is diagonal\n",
        "is_orthogonal_basis = np.allclose(dot_product_matrix, np.diag(np.diagonal(dot_product_matrix)))\n",
        "\n",
        "if is_orthogonal_basis:\n",
        "    print(\"The vectors form an orthogonal basis.\")\n",
        "else:\n",
        "    print(\"The vectors do not form an orthogonal basis.\")"
      ],
      "metadata": {
        "id": "UY2udUXBt7DF"
      },
      "execution_count": 2,
      "outputs": []
    },
    {
      "cell_type": "markdown",
      "source": [
        "#####**1.2.2.2 Best approximation theorem**\n",
        "#####According to Best approximation theorem, for any given vector v, there is a unique vector w in subspace W that is closest to v. Therefore, w minimizes the distance between v and all other vectors in W."
      ],
      "metadata": {
        "id": "S_s8ohuTB_em"
      }
    },
    {
      "cell_type": "code",
      "source": [
        "import numpy as np\n",
        "\n",
        "# Define the vector v and the subspace W spanned by w\n",
        "v = np.array([3, 4])\n",
        "w = np.array([1, 2])\n",
        "\n",
        "# Compute the orthogonal projection of v onto w\n",
        "w_normalized = w / np.linalg.norm(w)  # Normalize the vector w\n",
        "projection_length = np.dot(v, w_normalized)  # Length of the projection of v onto w_normalized\n",
        "projection = projection_length * w_normalized  # The actual projection vector\n",
        "\n",
        "# Output the result\n",
        "print(f\"Original vector v: {v}\")\n",
        "print(f\"Spanning vector w: {w}\")\n",
        "print(f\"Projection of v onto W (Best Approximation): {projection}\")\n",
        "print(f\"Distance between v and its projection: {np.linalg.norm(v - projection)}\")"
      ],
      "metadata": {
        "id": "1IaKdTu4FzGB"
      },
      "execution_count": null,
      "outputs": []
    },
    {
      "cell_type": "markdown",
      "source": [
        "#**1.2.3 Gram-Schmidt Process**\n",
        "\n",
        "#####A set of linearly independent vectors can be transformed into an orthogonal (or orthonormal) set of vectors that span the same subspace using the Gram-Schmidt process. To ensure orthogonality, a vector is first modified by removing its projection onto the previously computed orthogonal vectors. An orthonormal set can be produced by normalising the resulting orthogonal vectors, if necessary.\n",
        "\n"
      ],
      "metadata": {
        "id": "UUjB821DF6km"
      }
    },
    {
      "cell_type": "code",
      "source": [
        "import numpy as np\n",
        "\n",
        "def gram_schmidt(V):\n",
        "    \"\"\"Applies the Gram-Schmidt process to a set of vectors V.\"\"\"\n",
        "    # Number of vectors\n",
        "    n = V.shape[1]\n",
        "\n",
        "    # Initialize an empty list to hold the orthogonal vectors\n",
        "    U = np.zeros_like(V)\n",
        "\n",
        "    for i in range(n):\n",
        "        # Start with the original vector\n",
        "        u = V[:, i]\n",
        "\n",
        "        for j in range(i):\n",
        "            # Subtract the projection of the vector onto each of the previous orthogonal vectors\n",
        "            u -= np.dot(U[:, j], V[:, i]) / np.dot(U[:, j], U[:, j]) * U[:, j]\n",
        "\n",
        "        # Add the orthogonalized vector to the list\n",
        "        U[:, i] = u\n",
        "\n",
        "    return U\n",
        "\n",
        "# Example usage\n",
        "V = np.array([[3.0, 1.0], [2.0, 2.0]])  # Original set of vectors\n",
        "U = gram_schmidt(V)  # Apply Gram-Schmidt process\n",
        "\n",
        "# Output the orthogonalized vectors\n",
        "print(\"Original vectors:\")\n",
        "print(V)\n",
        "print(\"\\nOrthogonalized vectors:\")\n",
        "print(U)"
      ],
      "metadata": {
        "colab": {
          "base_uri": "https://localhost:8080/"
        },
        "id": "4l0cUfBGIVkH",
        "outputId": "235d1252-b973-4057-f666-f576b15096e8"
      },
      "execution_count": 3,
      "outputs": [
        {
          "output_type": "stream",
          "name": "stdout",
          "text": [
            "Original vectors:\n",
            "[[ 3.         -0.61538462]\n",
            " [ 2.          0.92307692]]\n",
            "\n",
            "Orthogonalized vectors:\n",
            "[[ 3.         -0.61538462]\n",
            " [ 2.          0.92307692]]\n"
          ]
        }
      ]
    },
    {
      "cell_type": "markdown",
      "source": [
        "#**1.2.4 Eigenvalues and Eigenvectors**\n",
        "\n",
        "#####An eigenvector is a non-zero vector that points in a direction that is invariant by the transformation and only varies by a scalar factor when the matrix is applied to it. The amount by which the eigenvector is scaled is indicated by the associated scalar, known as the eigenvalue. If $A$ is a matrix and $v$ is an eigenvector, then $Av=λv = Cv$, where $C$ is the eigenvalue."
      ],
      "metadata": {
        "id": "pbeBpb1hIgmV"
      }
    },
    {
      "cell_type": "code",
      "source": [
        "import numpy as np\n",
        "\n",
        "# Define a square matrix A\n",
        "A = np.array([[4, 2],\n",
        "              [1, 3]])\n",
        "\n",
        "# Compute the eigenvalues and eigenvectors\n",
        "eigenvalues, eigenvectors = np.linalg.eig(A)\n",
        "\n",
        "# Output the results\n",
        "print(\"Matrix A:\")\n",
        "print(A)\n",
        "print(\"\\nEigenvalues:\")\n",
        "print(eigenvalues)\n",
        "print(\"\\nEigenvectors:\")\n",
        "print(eigenvectors)"
      ],
      "metadata": {
        "colab": {
          "base_uri": "https://localhost:8080/"
        },
        "id": "ybtjQFinKXiR",
        "outputId": "559c2bc0-0826-4593-a18c-46411d4b2a53"
      },
      "execution_count": 4,
      "outputs": [
        {
          "output_type": "stream",
          "name": "stdout",
          "text": [
            "Matrix A:\n",
            "[[4 2]\n",
            " [1 3]]\n",
            "\n",
            "Eigenvalues:\n",
            "[5. 2.]\n",
            "\n",
            "Eigenvectors:\n",
            "[[ 0.89442719 -0.70710678]\n",
            " [ 0.4472136   0.70710678]]\n"
          ]
        }
      ]
    }
  ]
}