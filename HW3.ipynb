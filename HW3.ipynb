{
  "nbformat": 4,
  "nbformat_minor": 0,
  "metadata": {
    "colab": {
      "provenance": [],
      "authorship_tag": "ABX9TyMm0nlj9+FpKBUU67miEzQu",
      "include_colab_link": true
    },
    "kernelspec": {
      "name": "python3",
      "display_name": "Python 3"
    },
    "language_info": {
      "name": "python"
    }
  },
  "cells": [
    {
      "cell_type": "markdown",
      "metadata": {
        "id": "view-in-github",
        "colab_type": "text"
      },
      "source": [
        "<a href=\"https://colab.research.google.com/github/VasavSrivastava/MAT422/blob/main/HW3.ipynb\" target=\"_parent\"><img src=\"https://colab.research.google.com/assets/colab-badge.svg\" alt=\"Open In Colab\"/></a>"
      ]
    },
    {
      "cell_type": "markdown",
      "source": [
        "#**1.4.1 Singular Value Decomposition**\n",
        "\n",
        "#####Singular Value Decomposition (SVD) is a matrix factorization method that decomposes any $m \\times n$ matrix A into three matrices: $A = U \\Sigma V^T$, where $U$ is an $m \\times m$ orthogonal matrix of left singular vectors, $\\Sigma$ is an $m \\times n$ diagonal matrix of singular values, and $V^T$ is the transpose of an $n \\times n$ orthogonal matrix of right singular vectors. SVD is widely used in dimensionality reduction, matrix approximation, and solving linear systems.\n"
      ],
      "metadata": {
        "id": "QRYKaYDApmc3"
      }
    },
    {
      "cell_type": "code",
      "source": [
        "import numpy as np\n",
        "\n",
        "# Define a matrix A (3x3 example)\n",
        "A = np.array([[1, 2, 3],\n",
        "              [4, 5, 6],\n",
        "              [7, 8, 9]])\n",
        "\n",
        "# Perform Singular Value Decomposition\n",
        "U, Sigma, VT = np.linalg.svd(A)\n",
        "\n",
        "# Output the results\n",
        "print(\"Matrix A:\")\n",
        "print(A)\n",
        "\n",
        "print(\"\\nMatrix U (Left Singular Vectors):\")\n",
        "print(U)\n",
        "\n",
        "print(\"\\nSingular Values (Diagonal elements of Sigma):\")\n",
        "print(Sigma)\n",
        "\n",
        "print(\"\\nMatrix V^T (Right Singular Vectors):\")\n",
        "print(VT)\n",
        "\n",
        "# If you want to reconstruct the original matrix\n",
        "Sigma_full = np.zeros_like(A, dtype=float)\n",
        "np.fill_diagonal(Sigma_full, Sigma)\n",
        "A_reconstructed = np.dot(U, np.dot(Sigma_full, VT))\n",
        "\n",
        "print(\"\\nReconstructed Matrix A:\")\n",
        "print(A_reconstructed)\n"
      ],
      "metadata": {
        "colab": {
          "base_uri": "https://localhost:8080/"
        },
        "id": "XYJEyU0DVptu",
        "outputId": "de66026b-5c7b-4902-ad68-709e33f6aba1"
      },
      "execution_count": 1,
      "outputs": [
        {
          "output_type": "stream",
          "name": "stdout",
          "text": [
            "Matrix A:\n",
            "[[1 2 3]\n",
            " [4 5 6]\n",
            " [7 8 9]]\n",
            "\n",
            "Matrix U (Left Singular Vectors):\n",
            "[[-0.21483724  0.88723069  0.40824829]\n",
            " [-0.52058739  0.24964395 -0.81649658]\n",
            " [-0.82633754 -0.38794278  0.40824829]]\n",
            "\n",
            "Singular Values (Diagonal elements of Sigma):\n",
            "[1.68481034e+01 1.06836951e+00 4.41842475e-16]\n",
            "\n",
            "Matrix V^T (Right Singular Vectors):\n",
            "[[-0.47967118 -0.57236779 -0.66506441]\n",
            " [-0.77669099 -0.07568647  0.62531805]\n",
            " [-0.40824829  0.81649658 -0.40824829]]\n",
            "\n",
            "Reconstructed Matrix A:\n",
            "[[1. 2. 3.]\n",
            " [4. 5. 6.]\n",
            " [7. 8. 9.]]\n"
          ]
        }
      ]
    },
    {
      "cell_type": "markdown",
      "source": [
        "#**1.4.2 Low-Rank Matrix Approximations**\n",
        "\n",
        "#####Low-rank matrix approximation is a technique used to approximate a matrix by another matrix with a lower rank, capturing its most important features while discarding less significant or noisy information. This is done using Singular Value Decomposition (SVD), where only the largest singular values and their corresponding singular vectors are kept, reducing the matrix's dimensionality. The result is a matrix $A_k$ that approximates the original matrix $A$ but with reduced complexity. If $A = U \\Sigma V^T$, the low-rank approximation $A_k$ is given by $A_k = U_k \\Sigma_k V_k^T$, where $U_k$, $\\Sigma_k$, and $V_k^T$ represent the truncated matrices. Low-rank matrix approximations are commonly used in data compression, noise reduction, and dimensionality reduction techniques like Principal Component Analysis (PCA)."
      ],
      "metadata": {
        "id": "WQYJVanOV7H-"
      }
    },
    {
      "cell_type": "code",
      "source": [
        "import numpy as np\n",
        "\n",
        "# Define a sample matrix A (5x5 matrix)\n",
        "A = np.array([[1, 2, 3, 4, 5],\n",
        "              [6, 7, 8, 9, 10],\n",
        "              [11, 12, 13, 14, 15],\n",
        "              [16, 17, 18, 19, 20],\n",
        "              [21, 22, 23, 24, 25]])\n",
        "\n",
        "# Perform Singular Value Decomposition\n",
        "U, Sigma, VT = np.linalg.svd(A, full_matrices=False)\n",
        "\n",
        "# Print the original matrix and its singular values\n",
        "print(\"Original Matrix A:\")\n",
        "print(A)\n",
        "\n",
        "print(\"\\nSingular Values:\")\n",
        "print(Sigma)\n",
        "\n",
        "# Create a low-rank approximation by keeping only the top 2 singular values\n",
        "k = 2  # Number of singular values to keep\n",
        "\n",
        "# Reconstruct the matrix using only the top k singular values\n",
        "Sigma_k = np.diag(Sigma[:k])\n",
        "U_k = U[:, :k]\n",
        "VT_k = VT[:k, :]\n",
        "\n",
        "# Low-rank approximation of A\n",
        "A_k = np.dot(U_k, np.dot(Sigma_k, VT_k))\n",
        "\n",
        "# Print the low-rank approximated matrix\n",
        "print(\"\\nLow-rank approximation (k=2):\")\n",
        "print(A_k)\n",
        "\n",
        "# Print the difference between the original matrix and the low-rank approximation\n",
        "difference = np.linalg.norm(A - A_k)\n",
        "print(\"\\nDifference between original and low-rank approximation:\")\n",
        "print(difference)"
      ],
      "metadata": {
        "colab": {
          "base_uri": "https://localhost:8080/"
        },
        "id": "d4PUkTOwaYy8",
        "outputId": "fb5e04c2-8d18-40e0-ec33-aac7c91b6122"
      },
      "execution_count": 2,
      "outputs": [
        {
          "output_type": "stream",
          "name": "stdout",
          "text": [
            "Original Matrix A:\n",
            "[[ 1  2  3  4  5]\n",
            " [ 6  7  8  9 10]\n",
            " [11 12 13 14 15]\n",
            " [16 17 18 19 20]\n",
            " [21 22 23 24 25]]\n",
            "\n",
            "Singular Values:\n",
            "[7.42540539e+01 3.36681954e+00 2.98266488e-15 1.53916447e-15\n",
            " 2.08136977e-16]\n",
            "\n",
            "Low-rank approximation (k=2):\n",
            "[[ 1.  2.  3.  4.  5.]\n",
            " [ 6.  7.  8.  9. 10.]\n",
            " [11. 12. 13. 14. 15.]\n",
            " [16. 17. 18. 19. 20.]\n",
            " [21. 22. 23. 24. 25.]]\n",
            "\n",
            "Difference between original and low-rank approximation:\n",
            "4.756317757412299e-14\n"
          ]
        }
      ]
    },
    {
      "cell_type": "markdown",
      "source": [
        "#**1.4.3 Principal Component Analysis**\n",
        "\n",
        "#####**1.4.3.1 Covariance matrix**\n",
        "In Principal Component Analysis (PCA), the covariance matrix is a key component that represents how variables in a dataset are linearly related to each other. It is a square matrix where each element $\\text{Cov}(X_i, X_j)$ indicates the covariance between the $i$-th and $j$-th variables in the dataset. The diagonal elements represent the variance of each variable, and the off-diagonal elements represent the covariance between pairs of variables. By analyzing the covariance matrix, PCA identifies the directions (principal components) where the data exhibits the most variance, which helps in reducing dimensionality by projecting the data onto these principal directions."
      ],
      "metadata": {
        "id": "ScTonbd2cD22"
      }
    },
    {
      "cell_type": "code",
      "source": [
        "import numpy as np\n",
        "import matplotlib.pyplot as plt\n",
        "\n",
        "# Sample dataset: rows are data points, columns are features\n",
        "X = np.array([[2.5, 2.4],\n",
        "              [0.5, 0.7],\n",
        "              [2.2, 2.9],\n",
        "              [1.9, 2.2],\n",
        "              [3.1, 3.0],\n",
        "              [2.3, 2.7],\n",
        "              [2, 1.6],\n",
        "              [1, 1.1],\n",
        "              [1.5, 1.6],\n",
        "              [1.1, 0.9]])\n",
        "\n",
        "# Step 1: Compute the covariance matrix of the dataset\n",
        "# Center the data (subtract the mean of each feature)\n",
        "X_centered = X - np.mean(X, axis=0)\n",
        "\n",
        "# Covariance matrix computation\n",
        "cov_matrix = np.cov(X_centered.T)  # We transpose to compute the covariance matrix\n",
        "\n",
        "# Print the covariance matrix\n",
        "print(\"Covariance Matrix:\")\n",
        "print(cov_matrix)\n",
        "\n",
        "# Step 2: Visualize the original dataset\n",
        "plt.scatter(X[:, 0], X[:, 1], color='blue', label='Data Points')\n",
        "plt.title('Original Dataset')\n",
        "plt.xlabel('Feature 1')\n",
        "plt.ylabel('Feature 2')\n",
        "plt.grid(True)\n",
        "plt.legend()\n",
        "plt.show()\n"
      ],
      "metadata": {
        "colab": {
          "base_uri": "https://localhost:8080/",
          "height": 526
        },
        "id": "qUb76Cy_fgbO",
        "outputId": "ebcfe73c-fbe4-4738-de4e-419237636fb2"
      },
      "execution_count": 3,
      "outputs": [
        {
          "output_type": "stream",
          "name": "stdout",
          "text": [
            "Covariance Matrix:\n",
            "[[0.61655556 0.61544444]\n",
            " [0.61544444 0.71655556]]\n"
          ]
        },
        {
          "output_type": "display_data",
          "data": {
            "text/plain": [
              "<Figure size 640x480 with 1 Axes>"
            ],
            "image/png": "[encoded data removed]"
          },
          "metadata": {}
        }
      ]
    },
    {
      "cell_type": "markdown",
      "source": [
        "#####**1.4.3.2 Principal component analysis**\n",
        "\n",
        "Principal Component Analysis (PCA) is a dimensionality reduction technique used to simplify complex datasets by transforming them into a smaller set of variables while preserving most of the original data's variance. It identifies the directions, called **principal components**, along which the data varies the most and projects the data onto these directions, thereby reducing the number of variables while retaining key patterns. PCA computes these components by analyzing the covariance matrix and finding the eigenvectors and eigenvalues, with the principal components being orthogonal (uncorrelated). PCA is widely applied in data compression, noise reduction, and visualization of high-dimensional datasets."
      ],
      "metadata": {
        "id": "u7r1F4LyfmrR"
      }
    },
    {
      "cell_type": "code",
      "source": [
        "import numpy as np\n",
        "import matplotlib.pyplot as plt\n",
        "from sklearn.decomposition import PCA\n",
        "\n",
        "# Sample dataset: 10 data points with 3 features (dimensions)\n",
        "X = np.array([[2.5, 2.4, 1.2],\n",
        "              [0.5, 0.7, 0.8],\n",
        "              [2.2, 2.9, 1.7],\n",
        "              [1.9, 2.2, 1.4],\n",
        "              [3.1, 3.0, 2.1],\n",
        "              [2.3, 2.7, 1.9],\n",
        "              [2.0, 1.6, 1.1],\n",
        "              [1.0, 1.1, 0.6],\n",
        "              [1.5, 1.6, 1.0],\n",
        "              [1.1, 0.9, 0.5]])\n",
        "\n",
        "# Step 1: Standardize the dataset (centering around the mean)\n",
        "X_centered = X - np.mean(X, axis=0)\n",
        "\n",
        "# Step 2: Perform PCA, reducing the dataset to 2 principal components\n",
        "pca = PCA(n_components=2)\n",
        "X_pca = pca.fit_transform(X_centered)\n",
        "\n",
        "# Step 3: Visualize the result\n",
        "plt.scatter(X_pca[:, 0], X_pca[:, 1], c='blue', marker='o', label='Data points')\n",
        "plt.title('PCA of 3D Data (Reduced to 2D)')\n",
        "plt.xlabel('Principal Component 1')\n",
        "plt.ylabel('Principal Component 2')\n",
        "plt.grid(True)\n",
        "plt.legend()\n",
        "plt.show()\n",
        "\n",
        "# Step 4: Output the explained variance ratio (variance captured by each component)\n",
        "print(\"Explained Variance Ratio (Variance captured by each principal component):\")\n",
        "print(pca.explained_variance_ratio_)\n",
        "\n",
        "# Output the transformed data\n",
        "print(\"\\nTransformed Data (2 Principal Components):\")\n",
        "print(X_pca)\n"
      ],
      "metadata": {
        "colab": {
          "base_uri": "https://localhost:8080/",
          "height": 722
        },
        "id": "oFIoGBS4hckm",
        "outputId": "cf36889d-7cd3-409d-ef51-bc5568775562"
      },
      "execution_count": 4,
      "outputs": [
        {
          "output_type": "display_data",
          "data": {
            "text/plain": [
              "<Figure size 640x480 with 1 Axes>"
            ],
            "image/png": "[encoded data removed]"
          },
          "metadata": {}
        },
        {
          "output_type": "stream",
          "name": "stdout",
          "text": [
            "Explained Variance Ratio (Variance captured by each principal component):\n",
            "[0.94509774 0.04096643]\n",
            "\n",
            "Transformed Data (2 Principal Components):\n",
            "[[ 0.74118297  0.37219708]\n",
            " [-1.79613989 -0.33440669]\n",
            " [ 1.10018748 -0.30485488]\n",
            " [ 0.32071049 -0.12603376]\n",
            " [ 1.88391882  0.10609896]\n",
            " [ 1.10885394 -0.27894768]\n",
            " [-0.14609235  0.3192951 ]\n",
            " [-1.30206918  0.02294784]\n",
            " [-0.49375251  0.00239533]\n",
            " [-1.41679976  0.2213087 ]]\n"
          ]
        }
      ]
    },
    {
      "cell_type": "markdown",
      "source": [
        "#####**1.4.3.3 Total Variance**\n",
        "\n",
        "Total Variance refers to the sum of the variances of all original features in the dataset, which represents the total amount of variability present. When PCA is applied, this total variance is redistributed across the principal components, with each component capturing a portion of the variance. The explained variance ratio indicates how much of the total variance is captured by each component. The total variance is given by $\\text{Total Variance} = \\sum_{i=1}^{k} \\lambda_i$, where $\\lambda_i$ is the eigenvalue corresponding to the $i$-th principal component, and the sum of all eigenvalues represents the total variance in the data."
      ],
      "metadata": {
        "id": "vQXZBFsQiS6v"
      }
    },
    {
      "cell_type": "code",
      "source": [
        "import numpy as np\n",
        "from sklearn.decomposition import PCA\n",
        "from sklearn.preprocessing import StandardScaler\n",
        "\n",
        "# Sample dataset: 5 data points with 3 features\n",
        "X = np.array([[2.5, 2.4, 1.5],\n",
        "              [0.5, 0.7, 0.3],\n",
        "              [2.2, 2.9, 1.7],\n",
        "              [1.9, 2.2, 1.2],\n",
        "              [3.1, 3.0, 2.1]])\n",
        "\n",
        "# Standardize the data (important for PCA when features have different scales)\n",
        "scaler = StandardScaler()\n",
        "X_scaled = scaler.fit_transform(X)\n",
        "\n",
        "# Perform PCA\n",
        "pca = PCA(n_components=3)  # Keep all 3 components\n",
        "pca.fit(X_scaled)\n",
        "\n",
        "# Total variance is the sum of explained variance\n",
        "total_variance = np.sum(pca.explained_variance_)\n",
        "explained_variance_ratio = pca.explained_variance_ratio_\n",
        "\n",
        "# Print the total variance and explained variance ratio\n",
        "print(f\"Total Variance: {total_variance}\")\n",
        "print(f\"Explained Variance Ratio for each component: {explained_variance_ratio}\")\n",
        "\n",
        "# Print cumulative explained variance (to show how much variance is explained by the components)\n",
        "cumulative_variance = np.cumsum(explained_variance_ratio)\n",
        "print(f\"Cumulative Explained Variance: {cumulative_variance}\")"
      ],
      "metadata": {
        "colab": {
          "base_uri": "https://localhost:8080/"
        },
        "id": "tADhGqqLx9fT",
        "outputId": "5ee917ba-788f-45b9-bbbb-004ef13bf6fa"
      },
      "execution_count": 5,
      "outputs": [
        {
          "output_type": "stream",
          "name": "stdout",
          "text": [
            "Total Variance: 3.7500000000000018\n",
            "Explained Variance Ratio for each component: [0.97658241 0.02014566 0.00327193]\n",
            "Cumulative Explained Variance: [0.97658241 0.99672807 1.        ]\n"
          ]
        }
      ]
    }
  ]
}