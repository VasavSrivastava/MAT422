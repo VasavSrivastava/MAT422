{
  "nbformat": 4,
  "nbformat_minor": 0,
  "metadata": {
    "colab": {
      "provenance": [],
      "authorship_tag": "ABX9TyMT8992RRhGDgi5sWz/CvpX",
      "include_colab_link": true
    },
    "kernelspec": {
      "name": "python3",
      "display_name": "Python 3"
    },
    "language_info": {
      "name": "python"
    }
  },
  "cells": [
    {
      "cell_type": "markdown",
      "metadata": {
        "id": "view-in-github",
        "colab_type": "text"
      },
      "source": [
        "<a href=\"https://colab.research.google.com/github/VasavSrivastava/MAT422/blob/main/HW9.ipynb\" target=\"_parent\"><img src=\"https://colab.research.google.com/assets/colab-badge.svg\" alt=\"Open In Colab\"/></a>"
      ]
    },
    {
      "cell_type": "markdown",
      "source": [
        "#**3.4 Logistic Regression**\n",
        "\n",
        "Logistic regression is a classification model that estimates the probability of a binary outcome using a logistic function. Given data points ${(\\alpha_i, b_i) : i = 1, \\dots, n}$, where $\\alpha_i \\in \\mathbb{R}^d$ represents features and $b_i \\in {0, 1}$ is the label, the logit function models the probability of label 1 as a linear function: $\\log \\frac{p(\\alpha; x)}{1 - p(\\alpha; x)} = \\alpha^T x$. The probability is defined by the sigmoid function: $p(\\alpha; x) = \\sigma(\\alpha^T x)$, where $\\sigma(t) = \\frac{1}{1 + e^{-t}}$. To optimize, we minimize the cross-entropy loss: $L(x; A, b) = -\\frac{1}{n} \\sum_{i=1}^{n} [b_i \\log(\\sigma(\\alpha_i^T x)) + (1 - b_i) \\log(1 - \\sigma(\\alpha_i^T x))]$. Gradient descent updates the parameter $x$ as: $x_{k+1} = x_k + \\beta \\frac{1}{n} \\sum_{i=1}^{n} (b_i - \\sigma(\\alpha_i^T x_k)) \\alpha_i$. The stochastic gradient update is: $x_{k+1} = x_k + \\beta (b_I - \\sigma(\\alpha_I^T x_k)) \\alpha_I$, where $I$ is a randomly chosen index."
      ],
      "metadata": {
        "id": "nSZh0mt33knQ"
      }
    },
    {
      "cell_type": "code",
      "source": [
        "import numpy as np\n",
        "\n",
        "# Sigmoid function\n",
        "def sigmoid(z):\n",
        "    return 1 / (1 + np.exp(-z))\n",
        "\n",
        "# Loss function (Cross-Entropy)\n",
        "def compute_loss(A, b, x):\n",
        "    n = len(b)\n",
        "    predictions = sigmoid(A.dot(x))\n",
        "    return -np.mean(b * np.log(predictions) + (1 - b) * np.log(1 - predictions))\n",
        "\n",
        "# Gradient of the loss function\n",
        "def compute_gradient(A, b, x):\n",
        "    n = len(b)\n",
        "    predictions = sigmoid(A.dot(x))\n",
        "    return A.T.dot(predictions - b) / n\n",
        "\n",
        "# Logistic Regression using Gradient Descent\n",
        "def logistic_regression(A, b, learning_rate=0.1, num_iterations=1000):\n",
        "    # Initialize weights (parameters) to zeros\n",
        "    x = np.zeros(A.shape[1])\n",
        "\n",
        "    # Gradient Descent\n",
        "    for i in range(num_iterations):\n",
        "        # Compute the gradient\n",
        "        gradient = compute_gradient(A, b, x)\n",
        "\n",
        "        # Update weights\n",
        "        x -= learning_rate * gradient\n",
        "\n",
        "        # Compute and print the loss every 100 iterations\n",
        "        if i % 100 == 0:\n",
        "            loss = compute_loss(A, b, x)\n",
        "            print(f\"Iteration {i}: Loss = {loss}\")\n",
        "\n",
        "    return x\n",
        "\n",
        "# Example usage\n",
        "# Simple dataset with two features and a binary label\n",
        "# A is a (n x d) matrix, where n is the number of samples and d is the number of features\n",
        "A = np.array([\n",
        "    [0.5, 1.5],\n",
        "    [1.0, 2.0],\n",
        "    [1.5, 0.5],\n",
        "    [3.0, 3.5],\n",
        "    [2.0, 4.0]\n",
        "])\n",
        "\n",
        "# Binary labels (0 or 1)\n",
        "b = np.array([0, 0, 0, 1, 1])\n",
        "\n",
        "# Train the logistic regression model\n",
        "x_final = logistic_regression(A, b, learning_rate=0.1, num_iterations=1000)\n",
        "\n",
        "print(\"\\nFinal weights (parameters):\", x_final)\n",
        "\n",
        "# Predicting on new data\n",
        "def predict(A, x):\n",
        "    return (sigmoid(A.dot(x)) >= 0.5).astype(int)\n",
        "\n",
        "# Example prediction\n",
        "new_data = np.array([[1.0, 2.0]])\n",
        "prediction = predict(new_data, x_final)\n",
        "print(\"Prediction for new data [1.0, 2.0]:\", prediction)\n"
      ],
      "metadata": {
        "colab": {
          "base_uri": "https://localhost:8080/"
        },
        "id": "CABvEaKH3mP7",
        "outputId": "3c82c49f-2c81-42b2-8f8d-fe14c031ae9d"
      },
      "execution_count": 1,
      "outputs": [
        {
          "output_type": "stream",
          "name": "stdout",
          "text": [
            "Iteration 0: Loss = 0.6788940656987339\n",
            "Iteration 100: Loss = 0.656005436447019\n",
            "Iteration 200: Loss = 0.6553439501617339\n",
            "Iteration 300: Loss = 0.6552254332660172\n",
            "Iteration 400: Loss = 0.6552041363260528\n",
            "Iteration 500: Loss = 0.6552003034518605\n",
            "Iteration 600: Loss = 0.6551996131496522\n",
            "Iteration 700: Loss = 0.6551994887874233\n",
            "Iteration 800: Loss = 0.6551994663798113\n",
            "Iteration 900: Loss = 0.6551994623421737\n",
            "\n",
            "Final weights (parameters): [-0.1774323   0.32352887]\n",
            "Prediction for new data [1.0, 2.0]: [1]\n"
          ]
        }
      ]
    }
  ]
}