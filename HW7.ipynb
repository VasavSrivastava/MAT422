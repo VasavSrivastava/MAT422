{
  "nbformat": 4,
  "nbformat_minor": 0,
  "metadata": {
    "colab": {
      "provenance": [],
      "authorship_tag": "ABX9TyOx7HmuhjVEHvUvNXhEQywo",
      "include_colab_link": true
    },
    "kernelspec": {
      "name": "python3",
      "display_name": "Python 3"
    },
    "language_info": {
      "name": "python"
    }
  },
  "cells": [
    {
      "cell_type": "markdown",
      "metadata": {
        "id": "view-in-github",
        "colab_type": "text"
      },
      "source": [
        "<a href=\"https://colab.research.google.com/github/VasavSrivastava/MAT422/blob/main/HW7.ipynb\" target=\"_parent\"><img src=\"https://colab.research.google.com/assets/colab-badge.svg\" alt=\"Open In Colab\"/></a>"
      ]
    },
    {
      "cell_type": "markdown",
      "source": [
        "#**3.2.1 Limits and Continutity**\n",
        "Limits and continuity are foundational concepts in calculus. The limit of a function describes the value that a function approaches as the input approaches a particular point. Mathematically, the limit of $f(x)$ as $x$ approaches $a$ is written as:\n",
        "\n",
        "$$\\lim_{x \\to a} f(x) = L$$\n",
        "\n",
        "This means that as $x$ gets arbitrarily close to $a$, $f(x)$ gets arbitrarily close to $L$. A function $f(x)$ is said to be continuous at a point $a$ if the following three conditions are met:\n",
        "\n",
        "1. $f(a)$ is defined,\n",
        "2. $\\lim_{x \\to a} f(x)$ exists, and\n",
        "3. $\\lim_{x \\to a} f(x) = f(a)$.\n",
        "\n",
        "In other words, for continuity, the function must have no breaks, jumps, or holes at the point $a$, and the value of the function at $a$ must match the limit as $x$ approaches $a$.\n"
      ],
      "metadata": {
        "id": "kzlT9DGbFrnC"
      }
    },
    {
      "cell_type": "code",
      "source": [
        "import sympy as sp\n",
        "\n",
        "# Define the variable and the function\n",
        "x = sp.symbols('x')\n",
        "f = 1 / (x - 1)\n",
        "\n",
        "# Calculate the limit of the function as x approaches 1\n",
        "limit_at_1 = sp.limit(f, x, 1, dir='+')  # Limit from the right\n",
        "print(\"Limit of f(x) as x approaches 1 from the right:\", limit_at_1)\n",
        "\n",
        "# Check if the function is continuous at x = 1\n",
        "# We check if f(1) is defined, if the limit as x->1 exists, and if they are equal\n",
        "is_continuous = False\n",
        "try:\n",
        "    f_at_1 = f.subs(x, 1)\n",
        "except:\n",
        "    f_at_1 = None  # If there's a division by zero or undefined value\n",
        "\n",
        "limit_at_1_left = sp.limit(f, x, 1, dir='-')  # Limit from the left\n",
        "\n",
        "# If f(1) is not defined or the left and right limits do not exist, it's not continuous\n",
        "if f_at_1 is not None and limit_at_1 == limit_at_1_left == f_at_1:\n",
        "    is_continuous = True\n",
        "\n",
        "print(f\"Is the function continuous at x=1? {'Yes' if is_continuous else 'No'}\")\n"
      ],
      "metadata": {
        "colab": {
          "base_uri": "https://localhost:8080/"
        },
        "id": "P4NnMq4pF-uB",
        "outputId": "f4d7493d-bd31-478b-a2a2-8d48ddfc83fd"
      },
      "execution_count": 2,
      "outputs": [
        {
          "output_type": "stream",
          "name": "stdout",
          "text": [
            "Limit of f(x) as x approaches 1 from the right: oo\n",
            "Is the function continuous at x=1? No\n"
          ]
        }
      ]
    },
    {
      "cell_type": "markdown",
      "source": [
        "#**3.2.2 Derivatives**\n",
        "**3.2.2.1 Single-variable case**\n",
        "\n",
        "The derivative of a function in the single-variable case represents the rate at which the function's value changes with respect to changes in its input. It is defined as the limit of the average rate of change of the function as the change in the input approaches zero. Mathematically, the derivative of a function $f(x)$ at a point $x = a$ is given by:\n",
        "\n",
        "$$ f'(a) = \\lim_{\\Delta x \\to 0} \\frac{f(a + \\Delta x) - f(a)}{\\Delta x} $$\n",
        "\n",
        "This expression represents the slope of the tangent line to the graph of $f(x)$ at $x = a$. If this limit exists, the function is said to be differentiable at $a$. The derivative can also be interpreted as the instantaneous rate of change of the function at that point.\n"
      ],
      "metadata": {
        "id": "yb3qr6AfJG9v"
      }
    },
    {
      "cell_type": "code",
      "source": [
        "import sympy as sp\n",
        "\n",
        "# Define the variable and the function\n",
        "x = sp.symbols('x')\n",
        "f = x**2 + 3*x + 2  # Example function f(x) = x^2 + 3x + 2\n",
        "\n",
        "# Calculate the derivative of the function f(x) with respect to x\n",
        "f_prime = sp.diff(f, x)\n",
        "\n",
        "print(f\"Derivative of f(x) = {f} is: f'(x) = {f_prime}\")\n",
        "\n",
        "# To evaluate the derivative at a specific point (for example, x = 2)\n",
        "x_value = 2\n",
        "f_prime_at_2 = f_prime.subs(x, x_value)\n",
        "\n",
        "print(f\"Derivative of f(x) at x = {x_value} is: {f_prime_at_2}\")\n"
      ],
      "metadata": {
        "id": "_xdWZBvhMgjT"
      },
      "execution_count": null,
      "outputs": []
    },
    {
      "cell_type": "markdown",
      "source": [
        "**3.2.2.2 General case**\n",
        "\n",
        "The general case for the derivative refers to the concept of differentiating a function with respect to one or more variables. For a function $f(x_1, x_2, \\dots, x_n)$ of several variables, the partial derivative with respect to one variable $x_i$ measures how the function changes as only $x_i$ changes, while all other variables are held constant. The partial derivative of $f$ with respect to $x_i$ is given by:\n",
        "\n",
        "$$ \\frac{\\partial f}{\\partial x_i} = \\lim_{\\Delta x_i \\to 0} \\frac{f(x_1, x_2, \\dots, x_i + \\Delta x_i, \\dots, x_n) - f(x_1, x_2, \\dots, x_i, \\dots, x_n)}{\\Delta x_i} $$\n",
        "\n",
        "For vector-valued functions or functions of multiple variables, the gradient is a vector of all partial derivatives. The gradient of $f(x_1, x_2, \\dots, x_n)$ is written as:\n",
        "\n",
        "$$ \\nabla f = \\left( \\frac{\\partial f}{\\partial x_1}, \\frac{\\partial f}{\\partial x_2}, \\dots, \\frac{\\partial f}{\\partial x_n} \\right) $$\n",
        "\n",
        "This general derivative concept extends to functions of multiple variables and higher dimensions.\n"
      ],
      "metadata": {
        "id": "LxDj_bGJMhw1"
      }
    },
    {
      "cell_type": "code",
      "source": [
        "import sympy as sp\n",
        "\n",
        "# Define the variables\n",
        "x1, x2 = sp.symbols('x1 x2')\n",
        "\n",
        "# Define a multivariable function, for example, f(x1, x2) = x1^2 + 3*x1*x2 + x2^2\n",
        "f = x1**2 + 3*x1*x2 + x2**2\n",
        "\n",
        "# Calculate the partial derivative of f with respect to x1\n",
        "partial_x1 = sp.diff(f, x1)\n",
        "\n",
        "# Calculate the partial derivative of f with respect to x2\n",
        "partial_x2 = sp.diff(f, x2)\n",
        "\n",
        "# Calculate the gradient of f\n",
        "gradient_f = [partial_x1, partial_x2]\n",
        "\n",
        "print(f\"Partial derivative of f with respect to x1: {partial_x1}\")\n",
        "print(f\"Partial derivative of f with respect to x2: {partial_x2}\")\n",
        "print(f\"Gradient of f: {gradient_f}\")\n",
        "\n",
        "# To evaluate the partial derivatives at specific points (for example, x1 = 1, x2 = 2)\n",
        "x1_value = 1\n",
        "x2_value = 2\n",
        "\n",
        "partial_x1_at_point = partial_x1.subs({x1: x1_value, x2: x2_value})\n",
        "partial_x2_at_point = partial_x2.subs({x1: x1_value, x2: x2_value})\n",
        "\n",
        "print(f\"Partial derivative with respect to x1 at (x1, x2) = (1, 2): {partial_x1_at_point}\")\n",
        "print(f\"Partial derivative with respect to x2 at (x1, x2) = (1, 2): {partial_x2_at_point}\")\n"
      ],
      "metadata": {
        "colab": {
          "base_uri": "https://localhost:8080/"
        },
        "id": "hvxMiOmMM-rL",
        "outputId": "66a25fa0-b7ad-40e8-854f-69b109dcac51"
      },
      "execution_count": 3,
      "outputs": [
        {
          "output_type": "stream",
          "name": "stdout",
          "text": [
            "Partial derivative of f with respect to x1: 2*x1 + 3*x2\n",
            "Partial derivative of f with respect to x2: 3*x1 + 2*x2\n",
            "Gradient of f: [2*x1 + 3*x2, 3*x1 + 2*x2]\n",
            "Partial derivative with respect to x1 at (x1, x2) = (1, 2): 8\n",
            "Partial derivative with respect to x2 at (x1, x2) = (1, 2): 7\n"
          ]
        }
      ]
    },
    {
      "cell_type": "markdown",
      "source": [
        "**3.2.2.3 Further derivative**\n",
        "\n",
        "Further derivatives, also known as higher-order derivatives, refer to the derivatives of a function taken multiple times. After computing the first derivative, we can take the derivative of that result to obtain the second derivative, and so on. The second derivative represents the rate of change of the first derivative, often describing the concavity or acceleration of the function. For a function $f(x)$, the second derivative is denoted as $f''(x)$ or $\\frac{d^2 f}{dx^2}$. Similarly, the third derivative, which measures the rate of change of the second derivative, is written as $f'''(x)$ or $\\frac{d^3 f}{dx^3}$, and so on. In general, the $n$-th derivative of $f(x)$ is denoted by:\n",
        "\n",
        "$$ f^{(n)}(x) = \\frac{d^n f}{dx^n} $$\n",
        "\n",
        "These higher-order derivatives are useful in various applications, such as analyzing motion (velocity, acceleration, jerk) and in Taylor series expansions.\n"
      ],
      "metadata": {
        "id": "_1x6qG2cN3FV"
      }
    },
    {
      "cell_type": "code",
      "source": [
        "import sympy as sp\n",
        "\n",
        "# Define the variable and the function\n",
        "x = sp.symbols('x')\n",
        "f = x**4 + 2*x**3 + x**2  # Example function f(x) = x^4 + 2x^3 + x^2\n",
        "\n",
        "# Calculate the first derivative of the function f(x) with respect to x\n",
        "first_derivative = sp.diff(f, x)\n",
        "print(f\"First derivative of f(x): {first_derivative}\")\n",
        "\n",
        "# Calculate the second derivative of the function f(x)\n",
        "second_derivative = sp.diff(f, x, 2)\n",
        "print(f\"Second derivative of f(x): {second_derivative}\")\n",
        "\n",
        "# Calculate the third derivative of the function f(x)\n",
        "third_derivative = sp.diff(f, x, 3)\n",
        "print(f\"Third derivative of f(x): {third_derivative}\")\n",
        "\n",
        "# Calculate the fourth derivative of the function f(x)\n",
        "fourth_derivative = sp.diff(f, x, 4)\n",
        "print(f\"Fourth derivative of f(x): {fourth_derivative}\")\n",
        "\n",
        "# Evaluate the second derivative at a specific point (e.g., x = 1)\n",
        "x_value = 1\n",
        "second_derivative_at_point = second_derivative.subs(x, x_value)\n",
        "print(f\"Second derivative of f(x) at x = {x_value}: {second_derivative_at_point}\")\n"
      ],
      "metadata": {
        "colab": {
          "base_uri": "https://localhost:8080/"
        },
        "id": "BaCWnjw4Ot9j",
        "outputId": "11a19e9e-8d49-4138-ea76-5043b85526a8"
      },
      "execution_count": 4,
      "outputs": [
        {
          "output_type": "stream",
          "name": "stdout",
          "text": [
            "First derivative of f(x): 4*x**3 + 6*x**2 + 2*x\n",
            "Second derivative of f(x): 2*(6*x**2 + 6*x + 1)\n",
            "Third derivative of f(x): 12*(2*x + 1)\n",
            "Fourth derivative of f(x): 24\n",
            "Second derivative of f(x) at x = 1: 26\n"
          ]
        }
      ]
    },
    {
      "cell_type": "markdown",
      "source": [
        "#**3.2.3 Taylor's Theorem**\n",
        "\n",
        "Taylor's Theorem provides an approximation of a function as a polynomial, known as the Taylor series, based on the function's derivatives at a single point. For a function $f(x)$ that is infinitely differentiable at a point $a$, the Taylor series of $f$ around $a$ is given by:\n",
        "\n",
        "$$ f(x) = f(a) + f'(a)(x - a) + \\frac{f''(a)}{2!}(x - a)^2 + \\frac{f^{(3)}(a)}{3!}(x - a)^3 + \\cdots $$\n",
        "\n",
        "In general, the n-th order Taylor polynomial for $f(x)$ around $a$ is:\n",
        "\n",
        "$$ f(x) \\approx \\sum_{k=0}^{n} \\frac{f^{(k)}(a)}{k!}(x - a)^k $$\n",
        "\n",
        "where $f^{(k)}(a)$ denotes the $k$-th derivative of $f(x)$ evaluated at $x = a$, and $k!$ is the factorial of $k$. The remainder term $R_n(x)$ gives the error of the approximation and becomes smaller as $n$ increases, meaning the approximation gets more accurate near $a$.\n"
      ],
      "metadata": {
        "id": "sLoJ2L3vPC3j"
      }
    },
    {
      "cell_type": "code",
      "source": [
        "import sympy as sp\n",
        "\n",
        "# Define the variable and the function\n",
        "x = sp.symbols('x')\n",
        "f = sp.sin(x)  # Example function f(x) = sin(x)\n",
        "\n",
        "# Define the point around which to expand (a = 0)\n",
        "a = 0\n",
        "\n",
        "# Compute the Taylor series expansion of f(x) around x = 0, up to 5th degree\n",
        "taylor_series = sp.series(f, x, a, 6)  # The 6th argument specifies the degree + 1\n",
        "\n",
        "print(f\"Taylor series of sin(x) around x = {a} up to 5th degree:\")\n",
        "print(taylor_series)\n",
        "\n",
        "# To evaluate the Taylor polynomial at a specific point (for example, x = 0.5)\n",
        "x_value = 0.5\n",
        "taylor_value = taylor_series.subs(x, x_value)\n",
        "\n",
        "print(f\"Value of the Taylor series at x = {x_value}: {taylor_value}\")"
      ],
      "metadata": {
        "colab": {
          "base_uri": "https://localhost:8080/"
        },
        "id": "u0VQM4X1PqRW",
        "outputId": "f6327895-b7d6-46ec-dd1a-3a69ee1be1df"
      },
      "execution_count": 5,
      "outputs": [
        {
          "output_type": "stream",
          "name": "stdout",
          "text": [
            "Taylor series of sin(x) around x = 0 up to 5th degree:\n",
            "x - x**3/6 + x**5/120 + O(x**6)\n",
            "Value of the Taylor series at x = 0.5: O(1)\n"
          ]
        }
      ]
    }
  ]
}